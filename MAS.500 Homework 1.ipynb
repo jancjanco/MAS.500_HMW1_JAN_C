{
 "cells": [
  {
   "cell_type": "code",
   "execution_count": 9,
   "metadata": {
    "collapsed": false
   },
   "outputs": [
    {
     "name": "stdout",
     "output_type": "stream",
     "text": [
      "4359\n",
      "4103\n"
     ]
    }
   ],
   "source": [
    "#How many times were the words war and peace mentioned in the US mainstream media in 2013 compared to 2014?\n",
    "\n",
    "import mediacloud, datetime\n",
    "mc = mediacloud.api.MediaCloud('my API key')\n",
    "\n",
    "res = mc.sentenceCount('( war AND peace)', solr_filter=[mc.publish_date_query( datetime.date( 2013, 1, 1), datetime.date( 2013, 12, 31) ), 'media_sets_id:1' ])\n",
    "print res['count'] # prints the number of sentences found\n",
    "\n",
    "res = mc.sentenceCount('( war AND peace)', solr_filter=[mc.publish_date_query( datetime.date( 2014, 1, 1), datetime.date( 2014, 12, 31) ), 'media_sets_id:1' ])\n",
    "print res['count'] # prints the number of sentences found\n"
   ]
  },
  {
   "cell_type": "code",
   "execution_count": null,
   "metadata": {
    "collapsed": true
   },
   "outputs": [],
   "source": []
  },
  {
   "cell_type": "code",
   "execution_count": null,
   "metadata": {
    "collapsed": true
   },
   "outputs": [],
   "source": []
  },
  {
   "cell_type": "code",
   "execution_count": null,
   "metadata": {
    "collapsed": true
   },
   "outputs": [],
   "source": []
  }
 ],
 "metadata": {
  "kernelspec": {
   "display_name": "Python 2",
   "language": "python",
   "name": "python2"
  },
  "language_info": {
   "codemirror_mode": {
    "name": "ipython",
    "version": 2
   },
   "file_extension": ".py",
   "mimetype": "text/x-python",
   "name": "python",
   "nbconvert_exporter": "python",
   "pygments_lexer": "ipython2",
   "version": "2.7.10"
  }
 },
 "nbformat": 4,
 "nbformat_minor": 0
}
